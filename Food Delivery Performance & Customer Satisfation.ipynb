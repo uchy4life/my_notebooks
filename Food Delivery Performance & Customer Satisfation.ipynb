{
 "cells": [
  {
   "cell_type": "markdown",
   "id": "50ae03b8",
   "metadata": {},
   "source": [
    "<h1 style=\"text-align: center;\">Food Delivery Performance & Customer Satisfation</h1>"
   ]
  },
  {
   "cell_type": "markdown",
   "id": "86a1ac10",
   "metadata": {},
   "source": []
  },
  {
   "cell_type": "markdown",
   "id": "060c3f7a",
   "metadata": {},
   "source": [
    "**Business Problem**\n",
    "\n",
    "In the competitive food delivery industry, customer satisfaction and operational efficiency are crucial to retention and profitability. However, without clear visibility into how individual restaurants perform, how long deliveries take, or how customers rate their experiences, businesses risk blind spots in performance. This project aims to identify performance gaps and optimize customer satisfaction through data-driven insights."
   ]
  },
  {
   "cell_type": "markdown",
   "id": "54a0f0c0",
   "metadata": {},
   "source": [
    "**Project Objective**\n",
    "\n",
    "To analyze food delivery and customer experience metrics in order to:\n",
    "\n",
    "- Identify trends and patterns in order volume, revenue, and satisfaction\n",
    "- Pinpoint underperforming restaurants or delivery bottlenecks\n",
    "- Provide insights to support data-informed operational decisions"
   ]
  },
  {
   "cell_type": "markdown",
   "id": "d229b416",
   "metadata": {},
   "source": [
    "**Data Source & Context**\n",
    "\n",
    "This project utilizes a food delivery dataset that captures detailed information on customer orders, including restaurant IDs, order dates, item quantities, payment methods, delivery durations, and customer ratings for both food and delivery experiences. The dataset simulates operations from a multi-restaurant delivery platform, providing a realistic view of key performance and operational metrics.\n",
    "\n",
    "The data set was sourced from Kaggle https://www.kaggle.com/datasets/mohamedharris/restaurant-order-details/data}"
   ]
  },
  {
   "cell_type": "markdown",
   "id": "02f5e060",
   "metadata": {},
   "source": [
    "**Tools & Technologies**\n",
    "- **Data** **Cleaning** **&** **Analysis** **:** Python (Pandas, NumPy)\n",
    "- **Data** **Visualization** **:** Looker Studio (Google Data Studio)\n",
    "- **Data** **Fields** **Used** **:**\n",
    "    - Order ID, Customer Name, Restaurant ID, Order Date, Quantity, Order Amount\n",
    "    - Payment Mode, Delivery Time Taken (mins), Customer Rating - Food & Delivery\n",
    "- **Calculated** **Data** **Fields** **:**\n",
    "    - Average Order Value : [Order Amount / Order Count]\n",
    "  \n"
   ]
  },
  {
   "cell_type": "code",
   "execution_count": 4,
   "id": "5dbcb768",
   "metadata": {},
   "outputs": [],
   "source": [
    "## Import Libaries\n",
    "import pandas as pd\n",
    "import matplotlib.pyplot as plt\n",
    "import seaborn as sns"
   ]
  },
  {
   "cell_type": "code",
   "execution_count": 5,
   "id": "2881a9f5",
   "metadata": {},
   "outputs": [
    {
     "data": {
      "text/html": [
       "<div>\n",
       "<style scoped>\n",
       "    .dataframe tbody tr th:only-of-type {\n",
       "        vertical-align: middle;\n",
       "    }\n",
       "\n",
       "    .dataframe tbody tr th {\n",
       "        vertical-align: top;\n",
       "    }\n",
       "\n",
       "    .dataframe thead th {\n",
       "        text-align: right;\n",
       "    }\n",
       "</style>\n",
       "<table border=\"1\" class=\"dataframe\">\n",
       "  <thead>\n",
       "    <tr style=\"text-align: right;\">\n",
       "      <th></th>\n",
       "      <th>Unnamed: 0</th>\n",
       "      <th>Order ID</th>\n",
       "      <th>Customer Name</th>\n",
       "      <th>Restaurant ID</th>\n",
       "      <th>Order Date</th>\n",
       "      <th>Quantity of Items</th>\n",
       "      <th>Order Amount</th>\n",
       "      <th>Payment Mode</th>\n",
       "      <th>Delivery Time Taken (mins)</th>\n",
       "      <th>Customer Rating Food</th>\n",
       "      <th>customer Rating Delivery</th>\n",
       "    </tr>\n",
       "  </thead>\n",
       "  <tbody>\n",
       "    <tr>\n",
       "      <th>0</th>\n",
       "      <td>0</td>\n",
       "      <td>OD1</td>\n",
       "      <td>Srini</td>\n",
       "      <td>6</td>\n",
       "      <td>2022-01-01 23:15:00</td>\n",
       "      <td>5</td>\n",
       "      <td>633</td>\n",
       "      <td>Debit Card</td>\n",
       "      <td>47</td>\n",
       "      <td>5</td>\n",
       "      <td>3</td>\n",
       "    </tr>\n",
       "    <tr>\n",
       "      <th>1</th>\n",
       "      <td>1</td>\n",
       "      <td>OD2</td>\n",
       "      <td>Revandh</td>\n",
       "      <td>13</td>\n",
       "      <td>2022-01-01 19:21:00</td>\n",
       "      <td>5</td>\n",
       "      <td>258</td>\n",
       "      <td>Credit Card</td>\n",
       "      <td>41</td>\n",
       "      <td>3</td>\n",
       "      <td>5</td>\n",
       "    </tr>\n",
       "    <tr>\n",
       "      <th>2</th>\n",
       "      <td>2</td>\n",
       "      <td>OD3</td>\n",
       "      <td>David</td>\n",
       "      <td>9</td>\n",
       "      <td>2022-01-01 23:15:00</td>\n",
       "      <td>7</td>\n",
       "      <td>594</td>\n",
       "      <td>Cash on Delivery</td>\n",
       "      <td>30</td>\n",
       "      <td>3</td>\n",
       "      <td>4</td>\n",
       "    </tr>\n",
       "    <tr>\n",
       "      <th>3</th>\n",
       "      <td>3</td>\n",
       "      <td>OD4</td>\n",
       "      <td>Selva</td>\n",
       "      <td>4</td>\n",
       "      <td>2022-01-01 20:31:00</td>\n",
       "      <td>5</td>\n",
       "      <td>868</td>\n",
       "      <td>Cash on Delivery</td>\n",
       "      <td>30</td>\n",
       "      <td>3</td>\n",
       "      <td>4</td>\n",
       "    </tr>\n",
       "    <tr>\n",
       "      <th>4</th>\n",
       "      <td>4</td>\n",
       "      <td>OD5</td>\n",
       "      <td>Vinny</td>\n",
       "      <td>4</td>\n",
       "      <td>2022-01-01 11:10:00</td>\n",
       "      <td>4</td>\n",
       "      <td>170</td>\n",
       "      <td>Debit Card</td>\n",
       "      <td>18</td>\n",
       "      <td>4</td>\n",
       "      <td>3</td>\n",
       "    </tr>\n",
       "  </tbody>\n",
       "</table>\n",
       "</div>"
      ],
      "text/plain": [
       "   Unnamed: 0 Order ID Customer Name  Restaurant ID          Order Date  \\\n",
       "0           0      OD1         Srini              6 2022-01-01 23:15:00   \n",
       "1           1      OD2       Revandh             13 2022-01-01 19:21:00   \n",
       "2           2      OD3         David              9 2022-01-01 23:15:00   \n",
       "3           3      OD4         Selva              4 2022-01-01 20:31:00   \n",
       "4           4      OD5         Vinny              4 2022-01-01 11:10:00   \n",
       "\n",
       "   Quantity of Items  Order Amount      Payment Mode  \\\n",
       "0                  5           633        Debit Card   \n",
       "1                  5           258       Credit Card   \n",
       "2                  7           594  Cash on Delivery   \n",
       "3                  5           868  Cash on Delivery   \n",
       "4                  4           170        Debit Card   \n",
       "\n",
       "   Delivery Time Taken (mins)  Customer Rating Food  customer Rating Delivery  \n",
       "0                          47                     5                         3  \n",
       "1                          41                     3                         5  \n",
       "2                          30                     3                         4  \n",
       "3                          30                     3                         4  \n",
       "4                          18                     4                         3  "
      ]
     },
     "execution_count": 5,
     "metadata": {},
     "output_type": "execute_result"
    }
   ],
   "source": [
    "# Load datasets \n",
    "data = pd.read_excel(\"/Users/uchechukwumokobia/Downloads/Orders.xlsx\")\n",
    "# Display the first few rows\n",
    "data.head()"
   ]
  },
  {
   "cell_type": "code",
   "execution_count": 6,
   "id": "89abec53",
   "metadata": {},
   "outputs": [],
   "source": [
    "# remame rating fields \n",
    "data = data.rename(columns = {'Customer Rating-Food': 'Customer Rating Food',\n",
    "                              'Customer Rating-Delivery': 'customer Rating Delivery'})"
   ]
  },
  {
   "cell_type": "code",
   "execution_count": null,
   "id": "54444a8b",
   "metadata": {},
   "outputs": [],
   "source": [
    "#save to file\n",
    "data.to_excel(\"/Users/uchechukwumokobia/Downloads/Orders.xlsx\")"
   ]
  },
  {
   "cell_type": "code",
   "execution_count": 7,
   "id": "5fef4e7d",
   "metadata": {},
   "outputs": [
    {
     "name": "stdout",
     "output_type": "stream",
     "text": [
      "500\n"
     ]
    }
   ],
   "source": [
    "total_orders = data[\"Order ID\"].nunique()\n",
    "print(total_orders)"
   ]
  },
  {
   "cell_type": "code",
   "execution_count": 8,
   "id": "63ff3e83",
   "metadata": {},
   "outputs": [
    {
     "name": "stdout",
     "output_type": "stream",
     "text": [
      "299071\n"
     ]
    }
   ],
   "source": [
    "total_revenue = sum(data[\"Order Amount\"])\n",
    "print(total_revenue)"
   ]
  },
  {
   "cell_type": "code",
   "execution_count": 9,
   "id": "e7f6602c",
   "metadata": {},
   "outputs": [
    {
     "name": "stdout",
     "output_type": "stream",
     "text": [
      "598.142\n"
     ]
    }
   ],
   "source": [
    "avg_OrderValue = data[\"Order Amount\"].sum()/data[\"Order ID\"].nunique()\n",
    "print(avg_OrderValue)"
   ]
  },
  {
   "cell_type": "code",
   "execution_count": 10,
   "id": "c60d1045",
   "metadata": {},
   "outputs": [
    {
     "name": "stdout",
     "output_type": "stream",
     "text": [
      "30.542\n"
     ]
    }
   ],
   "source": [
    "avg_DeliveryTime = data[\"Delivery Time Taken (mins)\"].mean()\n",
    "print(avg_DeliveryTime)"
   ]
  },
  {
   "cell_type": "code",
   "execution_count": 12,
   "id": "74b0ea2c",
   "metadata": {},
   "outputs": [
    {
     "name": "stdout",
     "output_type": "stream",
     "text": [
      "3.0\n"
     ]
    }
   ],
   "source": [
    "avg_FoodRating = data['Customer Rating Food'].mean()\n",
    "print(round(avg_FoodRating, 0))"
   ]
  },
  {
   "cell_type": "code",
   "execution_count": 13,
   "id": "7cd79058",
   "metadata": {},
   "outputs": [
    {
     "name": "stdout",
     "output_type": "stream",
     "text": [
      "5\n"
     ]
    }
   ],
   "source": [
    "max_FoodRating = data['Customer Rating Food'].max()\n",
    "print(round(max_FoodRating, 0))"
   ]
  },
  {
   "cell_type": "code",
   "execution_count": 14,
   "id": "34f14c64",
   "metadata": {},
   "outputs": [
    {
     "name": "stdout",
     "output_type": "stream",
     "text": [
      "1\n"
     ]
    }
   ],
   "source": [
    "min_FoodRating = data['Customer Rating Food'].min()\n",
    "print(round(min_FoodRating, 0))"
   ]
  },
  {
   "cell_type": "code",
   "execution_count": 17,
   "id": "ca2e69b4",
   "metadata": {},
   "outputs": [
    {
     "name": "stdout",
     "output_type": "stream",
     "text": [
      "3.0\n"
     ]
    }
   ],
   "source": [
    "avg_DeliveryRating = data['customer Rating Delivery'].mean()\n",
    "print(round(avg_DeliveryRating, 0))"
   ]
  },
  {
   "cell_type": "code",
   "execution_count": 18,
   "id": "d5b9a274",
   "metadata": {},
   "outputs": [
    {
     "name": "stdout",
     "output_type": "stream",
     "text": [
      "5\n"
     ]
    }
   ],
   "source": [
    "max_DeliveryRating = data['customer Rating Delivery'].max()\n",
    "print(round(max_DeliveryRating, 0))"
   ]
  },
  {
   "cell_type": "code",
   "execution_count": 19,
   "id": "2d6d58d7",
   "metadata": {},
   "outputs": [
    {
     "name": "stdout",
     "output_type": "stream",
     "text": [
      "1\n"
     ]
    }
   ],
   "source": [
    "min_DeliveryRating = data['customer Rating Delivery'].min()\n",
    "print(round(min_DeliveryRating, 0))"
   ]
  },
  {
   "cell_type": "markdown",
   "id": "4620dfac",
   "metadata": {},
   "source": [
    "**Key** **Metrics** **Calculated**\n",
    "- Total Orders\n",
    "- Total Revenue\n",
    "- Average Order Value (AOV)\n",
    "- Average Delivery Time\n",
    "- Average Food Rating\n",
    "- Average Delivery Rating\n"
   ]
  },
  {
   "cell_type": "markdown",
   "id": "e621cadd",
   "metadata": {},
   "source": [
    "**Key** **Insights**\n",
    "- Delivery times vary across restaurants, revealing operational inefficiencies in some locations.\n",
    "- Customer food ratings are generally higher than delivery ratings, suggesting improvement areas in logistics or personnel training.\n",
    "- AOV trends help identify customer spending patterns and high-value time periods.\n"
   ]
  },
  {
   "cell_type": "markdown",
   "id": "19469477",
   "metadata": {},
   "source": [
    "**This** **project** **showcases** **:**\n",
    "\n",
    "- End-to-end BI workflow: data ingestion → transformation → visualization\n",
    "- Ability to extract insights from transactional data\n",
    "- Communication of findings through an intuitive and professional dashboard\n",
    "- A strong focus on data storytelling to support business decisions"
   ]
  },
  {
   "cell_type": "markdown",
   "id": "139a7b40",
   "metadata": {},
   "source": [
    "[View Dashboard – Food Delivery Performance & Customer Satisfaction]\n",
    "\n",
    "Dashboard 1:https://lookerstudio.google.com/u/0/reporting/907eebe4-4baf-4bfb-af54-a64e4df52e14/page/3sxRF/edit",
    "\n",

    "Dashboard 2: https://lookerstudio.google.com/u/0/reporting/907eebe4-4baf-4bfb-af54-a64e4df52e14/page/p_x92gvu5iud/edit"
   ]
  },
  {
   "cell_type": "code",
   "execution_count": null,
   "id": "83e2cda6",
   "metadata": {},
   "outputs": [],
   "source": []
  }
 ],
 "metadata": {
  "kernelspec": {
   "display_name": "Python 3 (ipykernel)",
   "language": "python",
   "name": "python3"
  },
  "language_info": {
   "codemirror_mode": {
    "name": "ipython",
    "version": 3
   },
   "file_extension": ".py",
   "mimetype": "text/x-python",
   "name": "python",
   "nbconvert_exporter": "python",
   "pygments_lexer": "ipython3",
   "version": "3.9.12"
  }
 },
 "nbformat": 4,
 "nbformat_minor": 5
}
